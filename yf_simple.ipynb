{
  "nbformat": 4,
  "nbformat_minor": 0,
  "metadata": {
    "colab": {
      "provenance": []
    },
    "kernelspec": {
      "name": "python3",
      "display_name": "Python 3"
    },
    "language_info": {
      "name": "python"
    }
  },
  "cells": [
    {
      "cell_type": "code",
      "execution_count": null,
      "metadata": {
        "id": "bAx3GQhHJOI9"
      },
      "outputs": [],
      "source": [
        "# https://www.youtube.com/watch?v=PVhecjQcfV4"
      ]
    },
    {
      "cell_type": "markdown",
      "source": [
        "Import Required Libraries"
      ],
      "metadata": {
        "id": "rjZFO9cTPVao"
      }
    },
    {
      "cell_type": "code",
      "source": [
        "import yfinance as yf\n",
        "import pandas as pd\n",
        "from datetime import datetime, timedelta"
      ],
      "metadata": {
        "id": "-eq8SOl5JZRa"
      },
      "execution_count": 35,
      "outputs": []
    },
    {
      "cell_type": "markdown",
      "source": [
        "Define tickers and time range"
      ],
      "metadata": {
        "id": "0L23Leg_JYNy"
      }
    },
    {
      "cell_type": "code",
      "source": [
        "tickers = ['SPY', 'BND', 'GLD', 'VTI', 'QQQ']"
      ],
      "metadata": {
        "id": "6BrhutBwKaxk"
      },
      "execution_count": 36,
      "outputs": []
    },
    {
      "cell_type": "code",
      "source": [
        "end_date = datetime.today()\n",
        "start_date = end_date - timedelta(days = 2 *365)"
      ],
      "metadata": {
        "id": "VB39BJzXKtBP"
      },
      "execution_count": 37,
      "outputs": []
    },
    {
      "cell_type": "code",
      "source": [
        "print(start_date)"
      ],
      "metadata": {
        "colab": {
          "base_uri": "https://localhost:8080/"
        },
        "id": "hsV365NtLbRl",
        "outputId": "2ccbe402-1555-41b9-bd13-ba379420d7ee"
      },
      "execution_count": 38,
      "outputs": [
        {
          "output_type": "stream",
          "name": "stdout",
          "text": [
            "2021-12-26 17:52:40.350937\n"
          ]
        }
      ]
    },
    {
      "cell_type": "code",
      "source": [
        " close_df = pd.DataFrame()"
      ],
      "metadata": {
        "id": "7WOSC3YTMNdt"
      },
      "execution_count": 39,
      "outputs": []
    },
    {
      "cell_type": "markdown",
      "source": [
        "Download prices"
      ],
      "metadata": {
        "id": "R6AeOZ57P9Oq"
      }
    },
    {
      "cell_type": "code",
      "source": [
        "for ticker in tickers:\n",
        "  data = yf.download(ticker, start=start_date, end=end_date)\n",
        "  close_df[ticker] = data['Close']"
      ],
      "metadata": {
        "colab": {
          "base_uri": "https://localhost:8080/"
        },
        "id": "MECHYQ0jMiel",
        "outputId": "64e52db1-7fb1-4e5a-8e2e-da6f70767921"
      },
      "execution_count": 40,
      "outputs": [
        {
          "output_type": "stream",
          "name": "stdout",
          "text": [
            "[*********************100%%**********************]  1 of 1 completed\n",
            "[*********************100%%**********************]  1 of 1 completed\n",
            "[*********************100%%**********************]  1 of 1 completed\n",
            "[*********************100%%**********************]  1 of 1 completed\n",
            "[*********************100%%**********************]  1 of 1 completed\n"
          ]
        }
      ]
    },
    {
      "cell_type": "markdown",
      "source": [
        "Show price dataframe"
      ],
      "metadata": {
        "id": "OZdUAJikQLVO"
      }
    },
    {
      "cell_type": "code",
      "source": [
        "print(close_df)"
      ],
      "metadata": {
        "colab": {
          "base_uri": "https://localhost:8080/"
        },
        "id": "qA5CAYsbNTGC",
        "outputId": "5e045668-b617-4716-d3ba-ec8da31947f0"
      },
      "execution_count": 41,
      "outputs": [
        {
          "output_type": "stream",
          "name": "stdout",
          "text": [
            "                   SPY        BND         GLD         VTI         QQQ\n",
            "Date                                                                 \n",
            "2021-12-27  477.260010  84.870003  169.369995  242.960007  403.480011\n",
            "2021-12-28  476.869995  84.860001  168.639999  242.460007  401.609985\n",
            "2021-12-29  477.480011  84.580002  168.589996  242.600006  401.549988\n",
            "2021-12-30  476.160004  84.769997  169.800003  242.210007  400.350006\n",
            "2021-12-31  474.959991  84.750000  170.960007  241.440002  397.850006\n",
            "...                ...        ...         ...         ...         ...\n",
            "2023-12-19  474.839996  73.389999  189.130005  238.059998  409.160004\n",
            "2023-12-20  468.260010  73.629997  188.100006  234.509995  403.079987\n",
            "2023-12-21  472.700012  73.620003  189.429993  236.089996  407.769989\n",
            "2023-12-22  473.649994  73.360001  190.270004  236.630005  408.380005\n",
            "2023-12-26  475.309998  73.349701  190.684998  237.600006  410.230011\n",
            "\n",
            "[503 rows x 5 columns]\n"
          ]
        }
      ]
    },
    {
      "cell_type": "code",
      "source": [],
      "metadata": {
        "id": "Y3iIVo2SN3_M"
      },
      "execution_count": null,
      "outputs": []
    }
  ]
}